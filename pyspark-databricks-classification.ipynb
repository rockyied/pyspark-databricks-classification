{
 "cells": [
  {
   "cell_type": "code",
   "execution_count": 0,
   "metadata": {
    "application/vnd.databricks.v1+cell": {
     "cellMetadata": {
      "byteLimit": 2048000,
      "rowLimit": 10000
     },
     "inputWidgets": {},
     "nuid": "5cfca2a8-5e25-4b60-ba68-d3c9ca74b62b",
     "showTitle": false,
     "tableResultSettingsMap": {},
     "title": ""
    }
   },
   "outputs": [
    {
     "output_type": "stream",
     "name": "stdout",
     "output_type": "stream",
     "text": [
      "[('age', 'string'), ('workclass', 'string'), ('education', 'int'), ('marital-status', 'string'), ('race', 'string'), ('sex', 'string'), ('hours-per-week', 'int'), ('income', 'string')]\n"
     ]
    }
   ],
   "source": [
    "#a) Preprocessing \n",
    "from pyspark.sql import SparkSession\n",
    "from pyspark.sql.functions import col\n",
    "from pyspark.ml.feature import StringIndexer, VectorAssembler\n",
    "from pyspark.ml.classification import DecisionTreeClassifier, RandomForestClassifier\n",
    "from pyspark.ml.evaluation import MulticlassClassificationEvaluator\n",
    "\n",
    "spark = SparkSession.builder.appName(\"IncomeClassification\").getOrCreate()\n",
    "df = spark.read.csv(\"dbfs:/FileStore/tables/adult_modified.csv\", header=True, inferSchema=True)\n",
    "\n",
    "print(df.dtypes)\n",
    "\n",
    "dfc = df.dropna(subset=[\"workclass\", \"marital-status\", \"race\", \"sex\", \"income\"])\n",
    "num = [\"age\", \"education\", \"hours-per-week\"]\n",
    "\n",
    "dfp = dfc\n",
    "for i in num:\n",
    "    mean_value = dfc.selectExpr(f\"mean(`{i}`) as mean\").collect()[0][\"mean\"]\n",
    "    dfp = dfp.fillna({i: mean_value})\n",
    "\n",
    "dfp = dfp.withColumn(\"age\", col(\"age\").cast(\"int\"))\n",
    "dfp = dfp.withColumn(\"education\", col(\"education\").cast(\"int\"))\n",
    "dfp = dfp.withColumn(\"hours-per-week\", col(\"hours-per-week\").cast(\"int\"))\n",
    "dfp = dfp.dropna()\n",
    "\n",
    "# Encode String Indexer\n",
    "cat = [\"workclass\", \"marital-status\", \"race\", \"sex\", \"income\"]\n",
    "for j in cat:\n",
    "    indexer = StringIndexer(inputCol=j, outputCol=j+\"_index\").fit(dfp)\n",
    "    dfp = indexer.transform(dfp)\n",
    "\n",
    "# Vector assembler\n",
    "feature_cols = [\"age\", \"education\", \"hours-per-week\", \"workclass_index\", \"marital-status_index\", \"race_index\", \"sex_index\"]\n",
    "assembler = VectorAssembler(inputCols=feature_cols, outputCol=\"features\")\n",
    "df_features = assembler.transform(dfp)\n",
    "\n",
    "train_data, test_data = df_features.randomSplit([0.8, 0.2], seed=42)"
   ]
  },
  {
   "cell_type": "code",
   "execution_count": 0,
   "metadata": {
    "application/vnd.databricks.v1+cell": {
     "cellMetadata": {
      "byteLimit": 2048000,
      "rowLimit": 10000
     },
     "inputWidgets": {},
     "nuid": "fb79562d-1c5e-4012-ba53-5b2b5b1f1536",
     "showTitle": false,
     "tableResultSettingsMap": {},
     "title": ""
    }
   },
   "outputs": [
    {
     "output_type": "stream",
     "name": "stdout",
     "output_type": "stream",
     "text": [
      "Decision Tree Model EvalAuation:\nAccuracy: 0.8125\nPrecision: 0.7992\nRecall: 0.8125\n\n"
     ]
    }
   ],
   "source": [
    "# Decision Tree Classifier\n",
    "dt = DecisionTreeClassifier(labelCol=\"income_index\", featuresCol=\"features\")\n",
    "dt_model = dt.fit(train_data)\n",
    "dt_predictions = dt_model.transform(test_data)\n",
    "\n",
    "evaluator_accuracy = MulticlassClassificationEvaluator(labelCol=\"income_index\", metricName=\"accuracy\")\n",
    "evaluator_precision = MulticlassClassificationEvaluator(labelCol=\"income_index\", metricName=\"weightedPrecision\")\n",
    "evaluator_recall = MulticlassClassificationEvaluator(labelCol=\"income_index\", metricName=\"weightedRecall\")\n",
    "\n",
    "dt_accuracy = evaluator_accuracy.evaluate(dt_predictions)\n",
    "dt_precision = evaluator_precision.evaluate(dt_predictions)\n",
    "dt_recall = evaluator_recall.evaluate(dt_predictions)\n",
    "\n",
    "print(\"Decision Tree Model EvalAuation:\")\n",
    "print(f\"Accuracy: {dt_accuracy:.4f}\")\n",
    "print(f\"Precision: {dt_precision:.4f}\")\n",
    "print(f\"Recall: {dt_recall:.4f}\\n\")"
   ]
  },
  {
   "cell_type": "code",
   "execution_count": 0,
   "metadata": {
    "application/vnd.databricks.v1+cell": {
     "cellMetadata": {
      "byteLimit": 2048000,
      "rowLimit": 10000
     },
     "inputWidgets": {},
     "nuid": "e44aeed6-ce03-4bcc-869b-66e6a4b982fe",
     "showTitle": false,
     "tableResultSettingsMap": {},
     "title": ""
    }
   },
   "outputs": [
    {
     "output_type": "stream",
     "name": "stdout",
     "output_type": "stream",
     "text": [
      "Random Forest Model Evaluation:\nAccuracy: 0.8078\nPrecision: 0.7937\nRecall: 0.8078\n\n"
     ]
    }
   ],
   "source": [
    "# Random Forest Classifier\n",
    "rf = RandomForestClassifier(labelCol=\"income_index\", featuresCol=\"features\", numTrees=100)\n",
    "rf_model = rf.fit(train_data)\n",
    "rf_predictions = rf_model.transform(test_data)\n",
    "\n",
    "rf_accuracy = evaluator_accuracy.evaluate(rf_predictions)\n",
    "rf_precision = evaluator_precision.evaluate(rf_predictions)\n",
    "rf_recall = evaluator_recall.evaluate(rf_predictions)\n",
    "\n",
    "print(\"Random Forest Model Evaluation:\")\n",
    "print(f\"Accuracy: {rf_accuracy:.4f}\")\n",
    "print(f\"Precision: {rf_precision:.4f}\")\n",
    "print(f\"Recall: {rf_recall:.4f}\\n\")"
   ]
  }
 ],
 "metadata": {
  "application/vnd.databricks.v1+notebook": {
   "computePreferences": null,
   "dashboards": [],
   "environmentMetadata": {
    "base_environment": "",
    "client": "1"
   },
   "language": "python",
   "notebookMetadata": {
    "pythonIndentUnit": 4
   },
   "notebookName": "Homework-3",
   "widgets": {}
  }
 },
 "nbformat": 4,
 "nbformat_minor": 0
}
